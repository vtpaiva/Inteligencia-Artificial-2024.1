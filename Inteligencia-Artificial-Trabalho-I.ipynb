{
 "cells": [
  {
   "cell_type": "code",
   "execution_count": 19,
   "id": "e3c23efb",
   "metadata": {},
   "outputs": [],
   "source": [
    "import numpy as np, math, copy\n",
    "import matplotlib.pyplot as plt"
   ]
  },
  {
   "cell_type": "markdown",
   "id": "a7465bf4",
   "metadata": {},
   "source": [
    "# Classes - Grafo e nó"
   ]
  },
  {
   "cell_type": "code",
   "execution_count": 20,
   "id": "be7372bd",
   "metadata": {},
   "outputs": [],
   "source": [
    "class Graph:\n",
    "    def __init__(self, *args) -> None:\n",
    "        self.startingPoint = args[0]\n",
    "        self.edges = {i.nodeName:i.edgeList for i in args}\n",
    "        self.nodes, self.touristicPoints = args, [i for i in args if i.isTouristic]\n",
    "    \n",
    "class node:\n",
    "    def __init__(self, nodeName, xCoord, yCoord, timeSpent = 0, isTouristic =  False, previousNode = None) -> None:\n",
    "        self.nodeName = nodeName\n",
    "        self.xCoord, self.yCoord = xCoord, yCoord\n",
    "        self.timeSpent = timeSpent\n",
    "        self.isTouristic = isTouristic\n",
    "        self.isVisited = False\n",
    "        self.previousNode = previousNode\n",
    "        self.edgeList = {}\n",
    "        self.realPath = {}\n",
    "        \n",
    "    def __repr__(self) -> str:\n",
    "        return f\"\\\"{self.nodeName}\\\" at ({self.xCoord}, {self.yCoord})\"\n",
    "    \n",
    "    def addEdges(self, *args):\n",
    "        self.edgeList.update({i[0] if isinstance(i, tuple) else \n",
    "                              i: i[1] if isinstance(i, tuple) else 1 for i in args})\n",
    "        \n",
    "    def getEuclideanDistance(self, other) -> float:\n",
    "        return math.sqrt((self.xCoord - other.xCoord)**2 + (self.yCoord - other.yCoord)**2)\n",
    "    \n",
    "    def getGraphDistance(self, other) -> float:\n",
    "        if self is other:\n",
    "            return 0\n",
    "        \n",
    "        return self.edgeList.get(other, np.inf)"
   ]
  },
  {
   "cell_type": "markdown",
   "id": "0ba19a2e",
   "metadata": {},
   "source": [
    "# Heurística utilizada"
   ]
  },
  {
   "cell_type": "code",
   "execution_count": 21,
   "id": "231589ad",
   "metadata": {},
   "outputs": [],
   "source": [
    "def euclideanHeuristic(originNode, destinyNode):\n",
    "    return originNode.getEuclideanDistance(destinyNode)   "
   ]
  },
  {
   "cell_type": "markdown",
   "id": "1881401f",
   "metadata": {},
   "source": [
    "# Algoritmo do A*"
   ]
  },
  {
   "cell_type": "code",
   "execution_count": 22,
   "id": "703eec29",
   "metadata": {},
   "outputs": [],
   "source": [
    "def backtrackPath(finalNode):\n",
    "    path = []\n",
    "    \n",
    "    while finalNode:\n",
    "        path.append(finalNode)\n",
    "        finalNode = finalNode.previousNode\n",
    "        \n",
    "    return path[::-1]\n",
    "\n",
    "def shortestPath(graph, heuristic, originNode, destinyNode):\n",
    "    if originNode == destinyNode:\n",
    "        return originNode, 0\n",
    "    \n",
    "    openNodes, closedNodes = [], set()\n",
    "\n",
    "    currentNode = (node(originNode.nodeName, originNode.xCoord, originNode.yCoord), 0, heuristic(originNode, destinyNode))\n",
    "    \n",
    "    openNodes.append(currentNode)\n",
    "    \n",
    "    while openNodes:\n",
    "        closedNodes.add(currentNode[0].nodeName)\n",
    "        \n",
    "        if currentNode[0].nodeName == destinyNode.nodeName:\n",
    "            return backtrackPath(currentNode[0]), currentNode[1]\n",
    "        \n",
    "        currentNeighbors = graph.edges[currentNode[0].nodeName]\n",
    "        \n",
    "        openNodes.extend([(node(i.nodeName, i.xCoord, i.yCoord, previousNode = currentNode[0], timeSpent = j + currentNode[0].timeSpent), \n",
    "        j + currentNode[0].timeSpent, heuristic(i, destinyNode)) for i, j in currentNeighbors.items() if i.nodeName not in closedNodes])\n",
    "        \n",
    "        tmpNode = min(openNodes, key = lambda x:(x[1] + x[2]))\n",
    "        \n",
    "        if currentNode in openNodes:\n",
    "            openNodes.remove(currentNode)\n",
    "\n",
    "        currentNode = tmpNode\n",
    "        \n",
    "    return None, np.inf"
   ]
  },
  {
   "cell_type": "markdown",
   "id": "7b81bac2",
   "metadata": {},
   "source": [
    "# Redução de um grafo com pontos turísticos e não turísticos"
   ]
  },
  {
   "cell_type": "code",
   "execution_count": 23,
   "id": "b76330ce",
   "metadata": {},
   "outputs": [],
   "source": [
    "def reduceGraph(originalGraph):\n",
    "    touristicPointsCopy = copy.deepcopy([originalGraph.startingPoint] + originalGraph.touristicPoints)\n",
    "    \n",
    "    for i in touristicPointsCopy:\n",
    "        shortestPathList = {node : shortPath for node in touristicPointsCopy if i != node and \n",
    "                            (shortPath := shortestPath(graph, euclideanHeuristic, i, node))[1] != np.inf}\n",
    "        \n",
    "        i.edgeList = {a:  b[1] for a, b in shortestPathList.items()}\n",
    "        i.realPath = {a : b[0][1:] for a, b in shortestPathList.items()}\n",
    "                \n",
    "    return Graph(*touristicPointsCopy)"
   ]
  },
  {
   "cell_type": "markdown",
   "id": "5df44393",
   "metadata": {},
   "source": [
    "# Algoritmo para encontrar a melhor rota"
   ]
  },
  {
   "cell_type": "code",
   "execution_count": 24,
   "id": "25053279",
   "metadata": {},
   "outputs": [],
   "source": [
    "def maxPointsPath(reducedGraph, timeLimit):\n",
    "    startPoint = reducedGraph.startingPoint\n",
    "    \n",
    "    finalPath, currentNode = [startPoint.nodeName], startPoint\n",
    "    timeSpent = pointsVisited = 0\n",
    "        \n",
    "    while (avaiable := [(i, j) for i, j in currentNode.edgeList.items() if not i.isVisited and i != startPoint\n",
    "                        and j + timeSpent + i.getGraphDistance(startPoint) <= timeLimit]):\n",
    "        \n",
    "        currentEdge = min(avaiable, key = lambda x: x[1])\n",
    "        \n",
    "        timeSpent += currentEdge[1]\n",
    "        \n",
    "        finalPath.extend(i.nodeName for i in currentNode.realPath.get(currentEdge[0]))\n",
    "        \n",
    "        currentNode = currentEdge[0]\n",
    "        \n",
    "        currentNode.isVisited = True\n",
    "        \n",
    "        pointsVisited += 1\n",
    "        \n",
    "    return finalPath + [startPoint.nodeName], timeSpent + currentNode.getGraphDistance(startPoint), pointsVisited"
   ]
  },
  {
   "cell_type": "markdown",
   "id": "4a8c5d8a",
   "metadata": {},
   "source": [
    "# Plotar o grafo"
   ]
  },
  {
   "cell_type": "code",
   "execution_count": 25,
   "id": "5648bb61",
   "metadata": {},
   "outputs": [],
   "source": [
    "def plotGraphPoints(graph):\n",
    "    for point in graph.nodes:\n",
    "        for edgePoint in point.edgeList:\n",
    "            plt.annotate('', xy=(edgePoint.xCoord, edgePoint.yCoord), xytext=(point.xCoord, point.yCoord),\n",
    "            arrowprops=dict(facecolor='black', edgecolor='black', arrowstyle='simple', linewidth=0.0))\n",
    "            \n",
    "        if point == graph.startingPoint:\n",
    "            plt.plot(point.xCoord, point.yCoord, 'g^')\n",
    "        else:\n",
    "            plt.plot(point.xCoord, point.yCoord, 'r*' if point.isTouristic else 'ko')\n",
    "            \n",
    "    plt.show()"
   ]
  },
  {
   "cell_type": "markdown",
   "id": "db002035",
   "metadata": {},
   "source": [
    "# Grafo"
   ]
  },
  {
   "cell_type": "code",
   "execution_count": 26,
   "id": "252e2145",
   "metadata": {},
   "outputs": [
    {
     "name": "stdout",
     "output_type": "stream",
     "text": [
      "U -> A -> H -> G -> H -> I -> J -> L -> M -> N -> P -> Q -> R -> U | Custo: 102 | Pontos visitados: 7 | Porcentagem: 77.78\n"
     ]
    }
   ],
   "source": [
    "a, b, c, d = node(\"A\", 1, 1, isTouristic=True), node(\"B\", 2, 2), node(\"C\", 3, 3), node(\"D\", 4, 4, isTouristic=True)\n",
    "e, f, g, h = node(\"E\", 5, 5), node(\"F\", 6, 6), node(\"G\", 7, 7, isTouristic=True), node(\"H\", 8, 8)\n",
    "i, j, k, l = node(\"I\", 9, 9), node(\"J\", 10, 10, isTouristic=True), node(\"K\", 50, 1), node(\"L\", 12, 12, isTouristic=True)\n",
    "m, n, o, p = node(\"M\", 54, 9), node(\"N\", 110, 10, isTouristic=True), node(\"O\", 50, 11), node(\"P\", 120, 12, isTouristic=True)\n",
    "q, r, s, t = node(\"Q\", 41, 9), node(\"R\", 41, 25, isTouristic=True), node(\"S\", 50, 11), node(\"T\", 144, 12, isTouristic=True)\n",
    "start = node(\"U\", 100, 5)\n",
    "\n",
    "start.addEdges(a, b)\n",
    "a.addEdges((start, 79), e, h, k)\n",
    "b.addEdges((a, 4), c, d)\n",
    "c.addEdges(a, b, d)\n",
    "d.addEdges(a, (b, 78), c, e)\n",
    "e.addEdges((f, 16))\n",
    "f.addEdges(e, g)\n",
    "g.addEdges(e, f, h)\n",
    "h.addEdges(e, g, i)\n",
    "i.addEdges(j, (k, 44), l)\n",
    "j.addEdges(k, l, (t, 44))\n",
    "k.addEdges((j, 108), l)\n",
    "l.addEdges(i, (j, 99), k, m)\n",
    "m.addEdges(n, (o, 14), (p, 7))\n",
    "n.addEdges((o, 55), p)\n",
    "o.addEdges(p)\n",
    "p.addEdges((q, 89))\n",
    "q.addEdges(a, (r, 2))\n",
    "r.addEdges((b, 666), (t, 45), start)\n",
    "s.addEdges((t, 42))\n",
    "t.addEdges(j)\n",
    "\n",
    "graph = Graph(start, a, b, c, d, e, f, g, h, i, j, k, l, m, n, o, p, q, r, s, t)\n",
    "reduced_graph = reduceGraph(graph)\n",
    "\n",
    "result = maxPointsPath(reduced_graph, 180)\n",
    "\n",
    "print(\" -> \".join(result[0]) , f\"| Custo: {result[1]} | Pontos visitados: {result[2]} | Porcentagem: {result[2]/len(graph.touristicPoints)*100:.02f}\")"
   ]
  },
  {
   "cell_type": "markdown",
   "id": "f6243eb8",
   "metadata": {},
   "source": [
    "# Grafo plotado"
   ]
  },
  {
   "cell_type": "code",
   "execution_count": 27,
   "id": "249a5c99",
   "metadata": {
    "scrolled": true
   },
   "outputs": [
    {
     "data": {
      "image/png": "[encoded data removed]",
      "text/plain": [
       "<Figure size 640x480 with 1 Axes>"
      ]
     },
     "metadata": {},
     "output_type": "display_data"
    }
   ],
   "source": [
    "plotGraphPoints(graph)"
   ]
  }
 ],
 "metadata": {
  "kernelspec": {
   "display_name": "Python 3 (ipykernel)",
   "language": "python",
   "name": "python3"
  },
  "language_info": {
   "codemirror_mode": {
    "name": "ipython",
    "version": 3
   },
   "file_extension": ".py",
   "mimetype": "text/x-python",
   "name": "python",
   "nbconvert_exporter": "python",
   "pygments_lexer": "ipython3",
   "version": "3.11.5"
  }
 },
 "nbformat": 4,
 "nbformat_minor": 5
}
